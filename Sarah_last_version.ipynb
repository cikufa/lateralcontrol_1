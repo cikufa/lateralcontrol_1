{
  "cells": [
    {
      "cell_type": "markdown",
      "metadata": {
        "id": "view-in-github",
        "colab_type": "text"
      },
      "source": [
        "<a href=\"https://colab.research.google.com/github/cikufa/lateralcontrol_1/blob/shekoufeh/Sarah_last_version.ipynb\" target=\"_parent\"><img src=\"https://colab.research.google.com/assets/colab-badge.svg\" alt=\"Open In Colab\"/></a>"
      ]
    },
    {
      "cell_type": "code",
      "execution_count": 1,
      "metadata": {
        "colab": {
          "base_uri": "https://localhost:8080/"
        },
        "id": "9VVh3mWPIJyp",
        "outputId": "3822c6cf-1148-4d16-8f29-3e4ca07919d4"
      },
      "outputs": [
        {
          "output_type": "stream",
          "name": "stdout",
          "text": [
            "Collecting xlsxwriter\n",
            "  Downloading XlsxWriter-3.0.3-py3-none-any.whl (149 kB)\n",
            "\u001b[?25l\r\u001b[K     |██▏                             | 10 kB 18.9 MB/s eta 0:00:01\r\u001b[K     |████▍                           | 20 kB 10.5 MB/s eta 0:00:01\r\u001b[K     |██████▌                         | 30 kB 4.6 MB/s eta 0:00:01\r\u001b[K     |████████▊                       | 40 kB 5.3 MB/s eta 0:00:01\r\u001b[K     |███████████                     | 51 kB 2.3 MB/s eta 0:00:01\r\u001b[K     |█████████████                   | 61 kB 2.6 MB/s eta 0:00:01\r\u001b[K     |███████████████▎                | 71 kB 2.9 MB/s eta 0:00:01\r\u001b[K     |█████████████████▌              | 81 kB 3.3 MB/s eta 0:00:01\r\u001b[K     |███████████████████▋            | 92 kB 3.7 MB/s eta 0:00:01\r\u001b[K     |█████████████████████▉          | 102 kB 4.1 MB/s eta 0:00:01\r\u001b[K     |████████████████████████        | 112 kB 4.1 MB/s eta 0:00:01\r\u001b[K     |██████████████████████████▏     | 122 kB 4.1 MB/s eta 0:00:01\r\u001b[K     |████████████████████████████▍   | 133 kB 4.1 MB/s eta 0:00:01\r\u001b[K     |██████████████████████████████▋ | 143 kB 4.1 MB/s eta 0:00:01\r\u001b[K     |████████████████████████████████| 149 kB 4.1 MB/s \n",
            "\u001b[?25hInstalling collected packages: xlsxwriter\n",
            "Successfully installed xlsxwriter-3.0.3\n",
            "Mounted at /content/drive\n"
          ]
        }
      ],
      "source": [
        "# libraries\n",
        "#saarhin\n",
        "#tasks: 1-action , preview dist in in reward/ 2- one step ahead in network input/ 3- reward every 5 iteration \n",
        "import numpy as np \n",
        "import math\n",
        "import matplotlib.pyplot as plt\n",
        "import shapely.geometry as geom\n",
        "from shapely.ops import nearest_points\n",
        "import tensorflow as tf\n",
        "from tensorflow import keras\n",
        "from keras.optimizers import adam_v2\n",
        "import tensorflow_probability as tfp\n",
        "import os\n",
        "from keras.layers import Dense\n",
        "!pip install xlsxwriter\n",
        "import xlsxwriter\n",
        "#from keras.optimizers import adam\n",
        "from google.colab import drive\n",
        "drive.mount('/content/drive')\n"
      ]
    },
    {
      "cell_type": "code",
      "execution_count": 2,
      "metadata": {
        "id": "hbQ0B2DcIOs4"
      },
      "outputs": [],
      "source": [
        "class GenericNetwork(keras.Model):\n",
        "    def __init__(self, n_actions, fc1_dims, fc2_dims, name, chkpt_dir=\"/tmp/actor_critic\"):\n",
        "        super(GenericNetwork, self).__init__()\n",
        "        self.fc1_dims = fc1_dims\n",
        "        self.fc2_dims = fc2_dims\n",
        "        self.n_actions = n_actions\n",
        "        self.model_name = name\n",
        "        self.checkpoint_dir = chkpt_dir\n",
        "        self.checkpoint_file = os.path.join(self.checkpoint_dir, name)\n",
        "\n",
        "        self.fc1 = Dense(self.fc1_dims, activation='relu')\n",
        "        self.fc2 = Dense(self.fc2_dims, activation='relu')\n",
        "        self.fc3 = Dense(n_actions)\n",
        "        \n",
        "        #self.v = Dense(1, activation=None)\n",
        "        #continous action is represented as a normal distribution that is characterized with 2 quantities: a mean and a standard deviation \n",
        "        #self.pi = Dense(n_actions=2, activation='softmax')\n",
        "\n",
        "    def call(self, state):\n",
        "        x = self.fc1(state)\n",
        "        x = self.fc2(x)\n",
        "        x = self.fc3(x)\n",
        "        return x"
      ]
    },
    {
      "cell_type": "code",
      "execution_count": 3,
      "metadata": {
        "id": "2e_3NTEAbhqu"
      },
      "outputs": [],
      "source": [
        "class Agent:\n",
        "    def __init__(self, layer1_dim=128, layer2_dim=64, n_actions=2, alpha_A=0.00003, alpha_C=0.00005, gamma=0.99):\n",
        "        self.layer1_dim = layer1_dim\n",
        "        self.layer2_dim = layer2_dim\n",
        "        self.n_actions = n_actions\n",
        "        self.gamma = gamma\n",
        "        self.alpha_A = alpha_A \n",
        "        self.alpha_C= alpha_C\n",
        "        self.action = None\n",
        "        self.log_prob= None\n",
        "        \n",
        "        self.actor = GenericNetwork(n_actions, layer1_dim, layer2_dim, \"actor\")\n",
        "        self.actor.compile(optimizer=adam_v2.Adam(learning_rate=alpha_A))\n",
        "        self.critic = GenericNetwork(1, layer1_dim, layer2_dim, \"critic\")\n",
        "        self.critic.compile(optimizer=adam_v2.Adam(learning_rate=alpha_C))\n",
        "        self.aloss= []\n",
        "        self.closs=[]\n",
        "\n",
        "    def choose_action(self, observation): #obs shape (1,2)\n",
        "        state = tf.convert_to_tensor([observation]) #state shape (1,1,2)\n",
        "        pars= self.actor(state) #mean and standard deviation that make action probs\n",
        "        pars= np.asarray(tf.squeeze(pars)).reshape(1,2)  \n",
        "        sigma , mu = np.hsplit(pars , 2)\n",
        "        sigma = tf.exp(sigma) #get rid of negative sigma\n",
        "        #sigma= abs(sigma)\n",
        "        action_probabilities = tfp.distributions.Normal(mu , sigma) #normal distribution with mu,sigma pars  \n",
        "        #log_prob = action_probabilities.log_prob(action_probabilities) #log (gonna be used for gradient)\n",
        "        action = action_probabilities.sample() #choose action (most likely to be chosen with higher probability)\n",
        "        action = tf.tanh(action) * 0.07 #action: continuous num in range(-0.07, 0.07)((-4,4) degree_\n",
        "        self.action = action  \n",
        "        return action #cast tensor to numpy(openAI gym doesnt take tensor)\n",
        "\n",
        "    # def save_models(self):\n",
        "    #     #print('... saving models ...')\n",
        "    #     self.actor.save_weights(self.actor.checkpoint_file)\n",
        "    #     self.critic.save_weights(self.critic.checkpoint_file)\n",
        "    # def load_models(self):\n",
        "    #     print('... loading models ...')\n",
        "    #     self.actor.load_weights(self.actor.checkpoint_file)\n",
        "    #     self.critic.load_weights(self.critic.checkpoint_file)\n",
        "        \n",
        "    def learn(self, state, reward, state_,done):\n",
        "        #print(\"state before \")\n",
        "        state = tf.convert_to_tensor([state], dtype=tf.float32)\n",
        "        state_ = tf.convert_to_tensor([state_], dtype=tf.float32)\n",
        "        reward = tf.convert_to_tensor(reward, dtype=tf.float32) # not fed to NN -> no need to reshape\n",
        "        with tf.GradientTape(persistent=True) as tape:\n",
        "            state_value = self.critic(state)\n",
        "            state_value_ = self.critic(state_)\n",
        "            state_value = tf.squeeze(state_value) #squeeze Removes dims of size 1 from the shape of a tensor.\n",
        "            state_value_ = tf.squeeze(state_value_)\n",
        "            pars= self.actor(state)\n",
        "            #pars= np.asarray(tf.squeeze(pars)).reshape(1,2)\n",
        "            #mu , sigma= np.hsplit(pars , 2)\n",
        "            #mu = np.squeeze(mu)\n",
        "            #sigma = np.squeeze(sigma)\n",
        "            mu = pars[0,0]\n",
        "            sigma = pars[0,1]\n",
        "            #print(sigma)\n",
        "            #sigma = tf.exp(sigma)\n",
        "            #print(sigma)\n",
        "            action_probs = tfp.distributions.Normal(mu, abs(sigma)) #policy \n",
        "            log_prob = action_probs.log_prob(self.action[0,0] )\n",
        "            #print(mu,sigma)\n",
        "            #print(log_prob)\n",
        "                      \n",
        "            #TD error: \n",
        "            TD= self.gamma*state_value_*(1-int(done)) - state_value \n",
        "            delta = reward + TD #1-done: terminal stRemoves dimensions of size 1 from the shape of a tensor.ate zero effect \n",
        "            actor_loss = (-log_prob*delta)            \n",
        "            critic_loss = (delta**2) \n",
        "            #print(\"sig\", sigma , \"ac\", actor_loss, \"cr\", critic_loss)\n",
        "  \n",
        "            \n",
        "        gradient1 = tape.gradient(actor_loss, self.actor.trainable_variables)\n",
        "        \n",
        "        self.actor.optimizer.apply_gradients((grad , var) for (grad , var) in zip(gradient1, self.actor.trainable_variables) if grad is not None)\n",
        "        #if grad is not None\n",
        "            \n",
        "        gradient2 = tape.gradient(critic_loss, self.critic.trainable_variables)\n",
        "        self.critic.optimizer.apply_gradients((grad , var) for (grad , var) in zip(gradient2, self.critic.trainable_variables) if grad is not None)\n",
        "        # if grad is not None\n",
        "        return critic_loss, actor_loss, gradient1\n"
      ]
    },
    {
      "cell_type": "code",
      "execution_count": 7,
      "metadata": {
        "id": "-7jAXNqRskpg"
      },
      "outputs": [],
      "source": [
        "class lateralenv:\n",
        "    def __init__(self, data, data_length, n_episodes, episode_length):\n",
        "        # constants\n",
        "        dt = 0.01\n",
        "        vx = 10\n",
        "        iz = 2278.8\n",
        "        m = 1300\n",
        "        a1 = 1;\n",
        "        a2 = 1.5\n",
        "        caf = 60000\n",
        "        car = 60000\n",
        "        cb = -(caf + car);\n",
        "        cr = (-a1 * caf + a2 * car) / vx\n",
        "        db = -(a1 * caf - a2 * car);\n",
        "        dr = -(a1 ** 2 * caf + a2 ** 2 * car) / vx\n",
        "        cd = caf;\n",
        "        dd = a1 * caf\n",
        "        self.constants = [dt, vx, iz, m, cb, cr, db, dr, cd, dd]\n",
        "\n",
        "        self.data_length = data_length\n",
        "        self.n_episodes = n_episodes\n",
        "        self.episode_length = episode_length\n",
        "        self.episode_length_cnt = episode_length\n",
        "\n",
        "        self.x = data[0:data_length, 0]\n",
        "        self.y = data[0:data_length, 1]\n",
        "\n",
        "        #self.road = geom.LineString(zip(self.x[:100], self.y[:100]))\n",
        "        self.road = geom.LineString(zip(self.x, self.y))\n",
        "        self.heading_angle = [np.arctan2(self.y[i + 1] - self.y[i], self.x[i + 1] - self.x[i]) for i in\n",
        "                         range(self.data_length-1)] # rad [-1.57, 1.57]\n",
        "        self.heading_angle.insert(0, self.heading_angle[0])  # append last value to adjust the shape\n",
        "        self.heading_angle = np.asfarray(self.heading_angle).reshape(self.data_length, 1)\n",
        "\n",
        "        # ______________________________________________init vars_____________________________________________________________\n",
        "        \n",
        "        # vy0 = 0; r0 = 0;\n",
        "        # x0 = self.x[0]; y0 = self.y[0]\n",
        "        # psi0 = self.heading_angle[0]\n",
        "        # self.vars = np.array([[vy0, r0, x0, y0, psi0]], dtype='float64').T  # 1,5 vars0\n",
        "        # self.vars_ = np.zeros((5, 1), dtype='float64')  # is only updated for normal step\n",
        "        # self.vars_tmp = vars0  # is updated for both normal step and preview step\n",
        "        \n",
        "        self.score = 0\n",
        "        self.index = 0\n",
        "        self.Done = 0\n",
        "        self.coordinates = []\n",
        "        self.nearestPiontCheck = []\n",
        "        self.vys = []\n",
        "        self.vymax = -10\n",
        "        self.vars = np.zeros((5, 1))\n",
        "        self.vars_ = np.zeros((5, 1), dtype='float64')  # is only updated for normal step\n",
        "        self.vars_tmp= np.zeros((5, 1)) # is updated for both normal step and preview step\n",
        "                                \n",
        "        # self.point0 = geom.Point(x0, y0)\n",
        "        # limited_dist0, limited_angle_diff0, _, _ = self.dist_diff(ep=0, limit_dist=1, limit_ang=0, stp=0)\n",
        "        # self.preview(action=0, preview=1)\n",
        "        # future_limited_dist0, future_limited_ang0, _, _ = self.dist_diff(ep=0, limit_dist=1, limit_ang=0, stp=0)  # sefr\n",
        "        # # self.state0= np.array([limited_dist0,limited_angle_diff0]) #(1,2)\n",
        "        # self.state0 = np.array([limited_dist0, limited_angle_diff0, limited_dist0, limited_angle_diff0])  # (1,4)\n",
        "        # # print(\"state0\" ,limited_dist0,limited_angle_diff0, limited_dist0,limited_angle_diff0)\n",
        "\n",
        "    # ++++++++++++++++++++++++++++++++++++++++++++++++++++++++++++++++++++++++++++++++++++++++++++++++++++++++++++++++++++++++++++++++\n",
        "\n",
        "    def dist_diff(self, ep, limit_dist, limit_ang, stp, pre_point=geom.Point(0,0)):\n",
        "        vy, r, x, y, psi = self.vars_tmp\n",
        "        ##1: based on where the car is supposed to be on this iteration\n",
        "        # self.index = self.index+1\n",
        "        # dist = self.data[self.index, 0:2] - coordinate_ #(1,2)\n",
        "        # angle_diff= self.data[self.index,2] - psi_\n",
        "        # ________________________________________________________________________\n",
        "\n",
        "        ## 2: based on where the car is supposed to be if the driven distance was along the road\n",
        "        # driving_distance= (vy**2 + vx**2)**0.5 *dt #driving angle : psi_\n",
        "        # #(dx^2+dy^2)^0.5= distance , dy=1.5dx -> (3.25dx^2)*0.5 = distance -> 1.802 dx = distance\n",
        "        # dx= driving_distance / math.sqrt(3.25); dy= dx*1.5\n",
        "        # dist= ((dx - x_)**2 + (dy- y_)**2)**0.5\n",
        "        # angle_diff =\n",
        "        # _______________________________________________________________________\n",
        "\n",
        "        # 3: based on car's vertical disance with the road\n",
        "        point = geom.Point(x, y)\n",
        "        dist = point.distance(self.road_ep)\n",
        "        #dist_z = math.sqrt((y - self.y0) ** 2 + (x - self.x0) ** 2)\n",
        "        limited_dist = max(dist, 0.01)\n",
        "        limited_dist = min(limited_dist, 100)\n",
        "\n",
        "        nearestP = nearest_points(self.road_ep, point)[0]\n",
        "        self.nearestPiontCheck.append(np.array(nearestP))\n",
        "        self.nearestPiontCheck.append(np.array(point))\n",
        "        road_slope = (nearestP.y-pre_point.y)/(nearestP.x-pre_point.x) if (nearestP.x-pre_point.x) !=0 else (nearestP.y-pre_point.y)/0.001\n",
        "        angle_diff = abs(np.arctan2((road_slope-psi), 1))[0]\n",
        "        #angle_diff = abs(np.arctan2((nearestP.y-pre_point.y),nearestP.x-pre_point.x)- psi[0]) #sara \n",
        "\n",
        "        #index, = np.where(self.road_ep == nearestP)\n",
        "        # print(\"index\", index)\n",
        "        #angle_diff=  np.arctan2(self.road_ep[index+1][1]-self.road_ep[index][1], self.road_ep[index+1][0]- self.road_ep[index][0]) - psi\n",
        "        # angle_diff = abs((np.cos(x / 100) / 4 - psi)[0])\n",
        "        limited_angle_diff = max(angle_diff, 0.005)\n",
        "        # limited_angle_diff=min(limited_angle_diff , 100) #-> max reward = 5000, min reward 5e-5\n",
        "\n",
        "        # print(\"point\", point,\"nearest p\", nearestP.coords[0], \"angle_diff\", angle_diff)\n",
        "\n",
        "        # debug\n",
        "        # p_buffer=np.zeros((500, 500)) ; dist_buffer=np.zeros((500, 500,3))\n",
        "        # assert p_buffer[ep][stp][0] != point.coords[0][0] , \"equal points !!\"\n",
        "        # assert dist_buffer[ep][stp] != [dist, angle_diff, dist_z] , 'equal dist !!'\n",
        "        # p_buffer[ep][stp]= point.coords[0][0]\n",
        "        # dist_buffer[ep][stp]= [dist, angle_diff, dist_z]\n",
        "\n",
        "        # print(\"point\", point)\n",
        "        # print(\"dist\" , dist, \"angle\", angle_diff, \"Z  \", dist_z)\n",
        "\n",
        "        if limit_dist == 1:\n",
        "            if limit_ang == 1:\n",
        "                return limited_dist, limited_angle_diff, nearestP\n",
        "            elif limit_ang == 0:\n",
        "                return limited_dist, angle_diff, nearestP\n",
        "        else:\n",
        "            return dist, angle_diff, nearestP\n",
        "\n",
        "    # +++++++++++++++++++++++++++++++++++++++++++++++++++++++++++++++++++++++++++++++++++++++++++++++++++++++++++++++++++++++++++++++++++\n",
        "\n",
        "    def preview(self, action,\n",
        "                preview):  # in this version the preview point is calculated using the updated self.vars. also try with non-updated vars\n",
        "        dt, vx, iz, m, cb, cr, db, dr, cd, dd = self.constants\n",
        "        vy, r, x, y, psi = np.vsplit(self.vars, 5)\n",
        "        if preview == 1:\n",
        "            dt = 0.3\n",
        "        if preview == 0:\n",
        "            dt = 0.1\n",
        "        # calc new state\n",
        "        par_mat1 = np.array([[cb / (m * vx), cr / m - vx, 0, 0, 0],\n",
        "                             [db / (iz * vx), dr / iz, 0, 0, 0],\n",
        "                             [-math.sin(psi), 0, 0, 0, 0],\n",
        "                             [math.cos(psi), 0, 0, 0, 0],\n",
        "                             [0, 1, 0, 0, 0]])\n",
        "\n",
        "        par_mat2 = np.array([[cd * action / m], [dd * action / iz], [vx * math.cos(psi)],\n",
        "                             [vx * math.sin(psi)], [0]], dtype='float64')\n",
        "\n",
        "        var_dot_mat = par_mat1 @ self.vars + par_mat2  # (5,1)= (5,5)@(5,1)+(5,1)\n",
        "        self.vars_tmp = self.vars + dt * var_dot_mat  # (5,1) =(5,1)+(5,1)\n",
        "\n",
        "        if preview == 0:\n",
        "            self.vars_ = self.vars_tmp\n",
        "\n",
        "        return\n",
        "\n",
        "    # +++++++++++++++++++++++++++++++++++++++++++++++++++++++++++++++++++++++++++++++++++++++++++++++++++++++++++++++++++++++++++++++++++\n",
        "\n",
        "    def step(self, action, stp_cnt, pre_point):\n",
        "        self.preview(action, preview=0)\n",
        "        # print(\"____________________________NOT preview_________________________\")\n",
        "        dist, angle_diff, pre_point = lateralenv.dist_diff(self, ep=0, limit_dist=1, limit_ang=0, stp=stp_cnt, pre_point=pre_point)\n",
        "        # print(\"step :  dist\" , dist, \"angle\", angle_diff, \"Z  \", dist_z)\n",
        "        self.preview(action, preview=1)\n",
        "        # print(\"____________________________preview______________________________\")\n",
        "        future_dist, future_angle_diff, _ = lateralenv.dist_diff(self, ep=0, limit_dist=1, limit_ang=0,\n",
        "                                                                             stp=stp_cnt)\n",
        "        # print(stp_cnt)\n",
        "\n",
        "        # %%%%%%%%%%%%%%%%%%%%%%%%%%%%%%%%%%%%%%%%%%%%%%%%% calc reward %%%%%%%%%%%%%%%%%%%%%%%%%%%%%%%%%%%%%%%%%%%%%%%%%%%%%%%%%%%%\n",
        "\n",
        "        # 3: based on car's vertical disance with the road\n",
        "\n",
        "        # reward = - dist_z*future_dist_z/10000\n",
        "        # reward = - dist_z/100\n",
        "        weight = 10\n",
        "        action_weight = -10\n",
        "        preview_weight = 0.1\n",
        "        # print(\"point\", point, dist, \"ang\", angle_diff)\n",
        "        # print(\"dist\", dist, \"ang\", angle_diff)\n",
        "        k1 = 1 / (dist ** 2 + angle_diff ** 2)\n",
        "        k2 = 1 / (future_dist ** 2 + future_angle_diff ** 2)\n",
        "        #reward = weight * k1 + preview_weight * k2  # + action_weight * int(action)\n",
        "        reward_calc = f'{weight} * {k1} + {preview_weight}*{k2} + {action_weight} * {action}'\n",
        "        # reward = - angle_diff\n",
        "\n",
        "        ## 4: Sarah test\n",
        "        # ------------------------\n",
        "        reward = k1 * weight + k2 * preview_weight \n",
        "\n",
        "        # for next step\n",
        "        # self.coordinates.append(self.vars[2:4,0])\n",
        "        # self.vys.append(self.vars[0])\n",
        "        # self.vars = self.vars_\n",
        "\n",
        "        # print(\"dist\", dist,\"angd\", angle_diff, \"p dist\",future_dist, \"p angd\", future_angle_diff)\n",
        "        self.state_ = np.array([dist, angle_diff, future_dist, future_angle_diff])  # real state (not limited)\n",
        "        # self.state_ = np.array([dist, angle_diff]) #real state (not limited)\n",
        "\n",
        "        self.vars = self.vars_\n",
        "        self.coordinates.append(self.vars[2:4, 0])\n",
        "        self.vys.append(self.vars[0])\n",
        "\n",
        "        self.episode_length_cnt = self.episode_length_cnt - 1\n",
        "        if self.episode_length_cnt == 0:\n",
        "            self.Done = 1\n",
        "\n",
        "        return self.vars_, self.state_, reward, reward_calc, self.Done, pre_point  # state:(dist, ang_dif)\n",
        "\n",
        "    # ++++++++++++++++++++++++++++++++++++++++++++++++++++++++++++++++++++++++++++++++++++++++++\n",
        "\n",
        "    def render(self, ep, score):\n",
        "\n",
        "        plt.xlabel(\"x\")\n",
        "        plt.ylabel(\"y\")\n",
        "        plt.plot(self.road.coords.xy[0][:], self.road.coords.xy[1][:], 'r')  # road\n",
        "        plt.plot(np.array(self.coordinates)[:, 0], np.array(self.coordinates)[:, 1], label=score)  # path\n",
        "\n",
        "        # to check whether the nearest points for a random road works logically\n",
        "        for i in range(0, len(self.nearestPiontCheck)-10, 300):\n",
        "            plt.plot([np.array(self.nearestPiontCheck)[i, 0], np.array(self.nearestPiontCheck)[i+1, 0]],\n",
        "                       [np.array(self.nearestPiontCheck)[i, 1], np.array(self.nearestPiontCheck)[i + 1, 1]], marker='o')\n",
        "            \n",
        "        plt.legend()\n",
        "        if (ep % 1 == 0):\n",
        "            plt.show()\n",
        "            plt.savefig(f\"drive/MyDrive/RL_lane_following_debug/path{ep}.jpg\")\n",
        "            plt.cla()\n",
        "        pass\n",
        "\n",
        "    def reset(self, ep):  # before each episode\n",
        "        self.Done = 0\n",
        "        self.episode_length_cnt = self.episode_length\n",
        "\n",
        "        # a new section of the road excel is selected for each episode\n",
        "        # in the current version 100 cells from each episode is used for each road\n",
        "        self.road_ep = geom.LineString(zip(self.x[(ep-1) * self.episode_length:ep * self.episode_length], \n",
        "                                        self.y[(ep-1) * self.episode_length:ep * self.episode_length]))\n",
        "        #print(\"debug\", self.road_ep.coords.shape)\n",
        "        plt.plot(self.road_ep.coords.xy[:][0], self.road_ep.coords.xy[:][1])\n",
        "                \n",
        "        # the car starts on the road\n",
        "        st_vy = 0; st_r=0;\n",
        "        st_x = self.x[(ep-1) * 100] + np.random.rand()*3\n",
        "        st_y = self.y[(ep-1) * 100] + np.random.rand()*3\n",
        "        st_psi = self.heading_angle[(ep-1)*100]+np.random.rand()*0.1\n",
        "        st_pre_point = geom.Point(self.road_ep.coords.xy[0][0], self.road_ep.coords.xy[0][1])\n",
        "        \n",
        "        point0_ep = geom.Point(st_x, st_y)\n",
        "        limited_dist0, limited_angle_diff0, _ = self.dist_diff(ep=0, limit_dist=1, limit_ang=0, stp=0)\n",
        "        self.preview(action=0, preview=1)\n",
        "        future_limited_dist0, future_limited_ang0, _ = self.dist_diff(ep=0, limit_dist=1, limit_ang=0, stp=0)  # sefr\n",
        "        state0_ep = np.array([limited_dist0, limited_angle_diff0, limited_dist0, limited_angle_diff0])  # (1,4)\n",
        "        \n",
        "        self.vars = np.array([[st_vy, st_r, st_x, st_y, st_psi]], dtype='float64').T\n",
        "        #self.vars_ = np.zeros((5, 1), dtype='float64')  # is only updated for normal step\n",
        "        self.vars_tmp = np.array([[st_vy, st_r, st_x, st_y, st_psi]], dtype='float64').T # is updated for both normal step and preview step\n",
        "        \n",
        "        # the testing arrays\n",
        "        self.coordinates = []\n",
        "        self.nearestPiontCheck = []\n",
        "         \n",
        "        return state0_ep, st_pre_point"
      ]
    },
    {
      "cell_type": "code",
      "source": [
        "import pandas as pd\n",
        "from google.colab import files\n",
        "import io\n",
        "\n",
        "# uploaded = files.upload()\n",
        "# discreate_road_pd = pd.read_csv(io.BytesIO(uploaded['Chaos-generted road.csv']))\n",
        "# discreate_road_np = discreate_road_pd.to_numpy()\n",
        "# plt.plot(discreate_road_np[:,0], discreate_road_np[:,1])\n",
        "\n",
        "uploaded = 'drive/MyDrive/RL_lane_following_debug/Chaos-generted road.csv'\n",
        "discrete_road_pd = pd.read_csv(uploaded)\n",
        "discrete_road_np = discrete_road_pd.to_numpy()\n",
        "\n",
        "# print(discrete_road_np.shape)\n",
        "# plt.plot(discrete_road_np[:,0], discrete_road_np[:,1])\n",
        "# plt.show()\n",
        "# road = geom.LineString(zip(discrete_road_np[:,0], discrete_road_np[:,1]))\n",
        "# plt.plot(road.coords.xy[0][0:1000], road.coords.xy[1][0:1000],'r')\n",
        "# plt.show()"
      ],
      "metadata": {
        "id": "723Vt7gE00R6"
      },
      "execution_count": 8,
      "outputs": []
    },
    {
      "cell_type": "code",
      "execution_count": null,
      "metadata": {
        "colab": {
          "base_uri": "https://localhost:8080/",
          "height": 1000
        },
        "id": "fw_1Aum5snkq",
        "outputId": "86f2ef5a-2a86-4993-988a-8d5753e5a297"
      },
      "outputs": [
        {
          "output_type": "stream",
          "name": "stdout",
          "text": [
            "1 :____________________________________________________________________________\n",
            "episode  1 score 660.555864782323 avg_score 660.555864782323 reward 0.00922682106503018\n"
          ]
        },
        {
          "output_type": "display_data",
          "data": {
            "text/plain": [
              "<Figure size 432x288 with 1 Axes>"
            ],
            "image/png": "[encoded data removed]"
          },
          "metadata": {
            "needs_background": "light"
          }
        },
        {
          "output_type": "stream",
          "name": "stdout",
          "text": [
            "2 :____________________________________________________________________________\n",
            "episode  2 score 0.5049202765315502 avg_score 330.53039252942733 reward 0.0010097787482010174\n"
          ]
        },
        {
          "output_type": "display_data",
          "data": {
            "text/plain": [
              "<Figure size 432x288 with 1 Axes>"
            ],
            "image/png": "[encoded data removed]"
          },
          "metadata": {
            "needs_background": "light"
          }
        },
        {
          "output_type": "stream",
          "name": "stdout",
          "text": [
            "3 :____________________________________________________________________________\n",
            "episode  3 score 0.5049108446290621 avg_score 220.5218986344946 reward 0.0010097763093095417\n"
          ]
        },
        {
          "output_type": "display_data",
          "data": {
            "text/plain": [
              "<Figure size 432x288 with 1 Axes>"
            ],
            "image/png": "[encoded data removed]"
          },
          "metadata": {
            "needs_background": "light"
          }
        },
        {
          "output_type": "stream",
          "name": "stdout",
          "text": [
            "4 :____________________________________________________________________________\n",
            "episode  4 score 0.5049278441784725 avg_score 165.51765593691556 reward 0.00100978102603876\n"
          ]
        },
        {
          "output_type": "display_data",
          "data": {
            "text/plain": [
              "<Figure size 432x288 with 1 Axes>"
            ],
            "image/png": "[encoded data removed]"
          },
          "metadata": {
            "needs_background": "light"
          }
        },
        {
          "output_type": "stream",
          "name": "stdout",
          "text": [
            "5 :____________________________________________________________________________\n",
            "episode  5 score 0.5049106370657338 avg_score 132.5151068769456 reward 0.0010097762662991973\n"
          ]
        },
        {
          "output_type": "display_data",
          "data": {
            "text/plain": [
              "<Figure size 432x288 with 1 Axes>"
            ],
            "image/png": "[encoded data removed]"
          },
          "metadata": {
            "needs_background": "light"
          }
        },
        {
          "output_type": "stream",
          "name": "stdout",
          "text": [
            "6 :____________________________________________________________________________\n",
            "episode  6 score 0.5049038932788414 avg_score 110.5134063796678 reward 0.0010097746417638328\n"
          ]
        },
        {
          "output_type": "display_data",
          "data": {
            "text/plain": [
              "<Figure size 432x288 with 1 Axes>"
            ],
            "image/png": "[encoded data removed]"
          },
          "metadata": {
            "needs_background": "light"
          }
        },
        {
          "output_type": "stream",
          "name": "stdout",
          "text": [
            "7 :____________________________________________________________________________\n",
            "episode  7 score 0.5049039438821303 avg_score 94.79790603169842 reward 0.0010097746561537019\n"
          ]
        },
        {
          "output_type": "display_data",
          "data": {
            "text/plain": [
              "<Figure size 432x288 with 1 Axes>"
            ],
            "image/png": "[encoded data removed]"
          },
          "metadata": {
            "needs_background": "light"
          }
        },
        {
          "output_type": "stream",
          "name": "stdout",
          "text": [
            "8 :____________________________________________________________________________\n",
            "episode  8 score 0.5049027242059967 avg_score 83.01128061826186 reward 0.0010097743155076022\n"
          ]
        },
        {
          "output_type": "display_data",
          "data": {
            "text/plain": [
              "<Figure size 432x288 with 1 Axes>"
            ],
            "image/png": "[encoded data removed]"
          },
          "metadata": {
            "needs_background": "light"
          }
        },
        {
          "output_type": "stream",
          "name": "stdout",
          "text": [
            "9 :____________________________________________________________________________\n"
          ]
        }
      ],
      "source": [
        "import warnings\n",
        "warnings.filterwarnings(\"ignore\")\n",
        "\n",
        "#if __name__ == '__main__':\n",
        "agent = Agent(layer1_dim=128, layer2_dim=64, n_actions=2, alpha_A=0.0003, alpha_C=0.005, gamma=0.99)\n",
        "n_episodes = 20\n",
        "\n",
        "#self.road = self.road[:, 3000] #tmp\n",
        "\n",
        "data_length = 10000\n",
        "ep_length = int(data_length / n_episodes)  #500\n",
        "env = lateralenv(discrete_road_np, data_length, n_episodes, ep_length)\n",
        "\n",
        "score_history = []\n",
        "best_score = 0  # reward = 1/positive > 0 -> min score =0\n",
        "load_checkpoint = False\n",
        "\n",
        "workbook = xlsxwriter.Workbook('drive/MyDrive/RL_lane_following_debug/log.xlsx')\n",
        "log = workbook.add_worksheet(\"ep_per_ep\")\n",
        "log.write(0, 0, \"ep / step\")\n",
        "log.write(0, 3, \"vy\")\n",
        "log.write(0, 4, \"point\")\n",
        "log.write(0, 5, \"distance\")\n",
        "log.write(0, 6, \"angle_diff\")\n",
        "log.write(0, 7, \"road derivative\")\n",
        "log.write(0, 8, \"psi\")\n",
        "log.write(0, 9, \"reward\")\n",
        "log.write(0, 10, \"point dist_diff +  preview point dist_diff + action\")\n",
        "\n",
        "# training________________________________________________________________________________________\n",
        "cnt = 0\n",
        "for ep in range(1, n_episodes + 1):\n",
        "\n",
        "    score = 0\n",
        "    al = [];\n",
        "    cl = [];\n",
        "    rewards = []\n",
        "    state, pre_point = env.reset(ep)  # (1,2)\n",
        "\n",
        "    j = 0\n",
        "    states_ = []\n",
        "    act_buffer = 0\n",
        "    print(ep, \":____________________________________________________________________________\")\n",
        "    while not env.Done:\n",
        "        action = agent.choose_action(state)\n",
        "        # assert action != act_buffer , \"equal actions !!\"\n",
        "        #act_buffer = action\n",
        "\n",
        "        newvars, state_, reward, reward_calc, Done, pre_point = env.step(action, j, pre_point)\n",
        "        states_.append(state_)\n",
        "\n",
        "        score = score + reward\n",
        "        rewards.append(reward)\n",
        "\n",
        "        # if not load_checkpoint:\n",
        "        closs, aloss, grad1 = agent.learn(state, reward, state_, Done)\n",
        "        # log\n",
        "        log.write((ep - 1) * ep_length + j + 1, 0, f\"{ep} / {j}\")\n",
        "        log.write((ep - 1) * ep_length + j + 1, 3, newvars[0])\n",
        "        log.write((ep - 1) * ep_length + j + 1, 4, str(newvars[2:4]))\n",
        "        log.write((ep - 1) * ep_length + j + 1, 5, state_[0])\n",
        "        log.write((ep - 1) * ep_length + j + 1, 6, state_[1])\n",
        "        log.write((ep - 1) * ep_length + j + 1, 7, np.cos(newvars[2] / 200)[0] / 4)\n",
        "        log.write((ep - 1) * ep_length + j + 1, 8, newvars[-1])\n",
        "        log.write((ep - 1) * ep_length + j + 1, 9, reward)\n",
        "        log.write((ep - 1) * ep_length + j + 1, 10, reward_calc)\n",
        "\n",
        "        state = state_\n",
        "        j += 1  # step counter\n",
        "\n",
        "    states_ = np.array(states_)\n",
        "    score_history.append(score)\n",
        "\n",
        "    # ______________ plot score curve)\n",
        "    # ep = [i+1 for i in range(i)]\n",
        "    # x= np.array(ep).reshape(i,1)\n",
        "    # #score_history= np.array(score_history).reshape(i,1)\n",
        "    # plt.xlabel(\"episode\")\n",
        "    # plt.ylabel(\"score\")\n",
        "    # plt.plot(x, np.array(score_history).reshape(i,1))\n",
        "    # plt.savefig(figure_file)\n",
        "\n",
        "    avg_score = np.mean(score_history[-100:])\n",
        "    if avg_score > best_score:\n",
        "        best_score = avg_score\n",
        "    if (ep % 1 == 0):\n",
        "        print('episode ', ep, 'score', score, 'avg_score', avg_score, 'reward', reward)\n",
        "        env.render(ep, score)\n",
        "\n",
        "workbook.close()\n",
        "\n",
        "if not load_checkpoint:\n",
        "    ep = [i + 1 for i in range(n_episodes)]\n",
        "    x = np.array(ep).reshape(n_episodes, 1)\n",
        "    score_history = np.array(score_history).reshape(n_episodes, 1)\n",
        "    plt.xlabel(\"episode\")\n",
        "    plt.ylabel(\"score\")\n",
        "    plt.plot(x, score_history)\n",
        "    plt.savefig('scores.png')\n",
        "\n"
      ]
    },
    {
      "cell_type": "markdown",
      "metadata": {
        "id": "Sd5X-6pIQ8vU"
      },
      "source": [
        "# New Section"
      ]
    },
    {
      "cell_type": "code",
      "execution_count": null,
      "metadata": {
        "id": "mmPtNVj3Px5c"
      },
      "outputs": [],
      "source": [
        "# test \n",
        "import numpy as np \n",
        "import math\n",
        "import shapely.geometry as geom\n",
        "import matplotlib.pyplot as plt\n",
        "from shapely.ops import nearest_points\n",
        "\n",
        "# x= np.arange(0, 10).reshape(10, 1) \n",
        "# y= 50*np.sin(x/200)\n",
        "# road = geom.LineString(zip(x,y))\n",
        "# p= geom.Point(314,50)\n",
        "# print(\"ggg\", p.coords[0][1])\n",
        "# print(\"ggg\", p.coords[0][0])\n",
        "# dist = p.distance(road) \n",
        "# print(dist)\n",
        "# nearestP = nearest_points(road, p)\n",
        "# print(nearestP[0])\n",
        "#angle_diff= np.arctan2(nearestP.centroid.y, nearestP.centroid.x) - self.psi0 #pos/neg mide  \n",
        "\n",
        "n=1500\n",
        "x= np.arange(0, n).reshape(n, 1) \n",
        "y= np.sqrt(1-x**2)\n",
        "road = geom.LineString(zip(x,y))\n",
        "plt.plot(x,y)\n",
        " #self.road = genfromtxt(roadfile, delimiter=',')\n",
        "heading_angle = [np.arctan2(y[i+1]-y[i] , x[i+1]-x[i]) for i in range(y.shape[0]-1)] #rad #56.3\n",
        "heading_angle= np.asfarray(heading_angle).reshape(n-1,1)\n",
        "print(max(heading_angle))\n",
        "print(min(heading_angle))\n",
        "\n",
        "      "
      ]
    },
    {
      "cell_type": "code",
      "execution_count": null,
      "metadata": {
        "id": "hlAwco_gsuPK"
      },
      "outputs": [],
      "source": [
        "class t:\n",
        "    def __init__(self, roadfile, data_length , n_episodes, episode_length):\n",
        "        #constants\n",
        "        dt=1 #0.1\n",
        "        vx=10\n",
        "        iz= 2278.8\n",
        "        m=1300\n",
        "        a1=1; a2=1.5\n",
        "        caf = 60000; car= 60000\n",
        "        cb= -(caf + car); cr= (-a1*caf + a2*car)/ vx\n",
        "        db= -(a1* caf - a2*car); dr= -(a1**2 *caf + a2**2*car) / vx\n",
        "        cd = caf; dd= a1*caf\n",
        "        self.constants=[dt, vx, iz, m, cb, cr, db, dr, cd, dd]\n",
        "         \n",
        "    def preview(self, point):\n",
        "        action = 0\n",
        "        dt, vx, iz, m, cb, cr, db, dr, cd, dd= self.constants\n",
        "        vy, r, x, y, psi = np.vsplit(self.vars,5)\n",
        "        #dt = dt*5 # 5 step forward preview \n",
        "        #calc new state\n",
        "        par_mat1 = np.array([[cb/(m*vx), cr/m-vx,0,0,0],\n",
        "                           [db/(iz*vx), dr/iz, 0,0,0],\n",
        "                           [-math.sin(psi),0,0,0,0],\n",
        "                           [math.cos(psi),0,0,0,0],\n",
        "                           [0,1,0,0,0]])\n",
        "        \n",
        "        par_mat2 = np.array([[cd* action /m],[dd*action/iz], [vx*math.cos(psi)],\n",
        "                    [vx*math.sin(psi)],[0]], dtype='float64') \n",
        "     \n",
        "        var_dot_mat = par_mat1 @ self.vars + par_mat2  #(5,1)= (5,5)@(5,1)+(5,1)\n",
        "        self.vars_= self.vars + dt* var_dot_mat #(5,1) =(5,1)+(5,1)\n",
        "        vy_, r_, x_, y_, psi_= np.vsplit(self.vars_,5)\n",
        "        future_point= geom.Point(x_, y_)\n",
        "\n",
        "        return future_point\n",
        "\n"
      ]
    },
    {
      "cell_type": "code",
      "source": [
        ""
      ],
      "metadata": {
        "id": "b5wsD1rXOYR6"
      },
      "execution_count": null,
      "outputs": []
    }
  ],
  "metadata": {
    "colab": {
      "collapsed_sections": [],
      "name": "Sarah last version.ipynb",
      "provenance": [],
      "include_colab_link": true
    },
    "kernelspec": {
      "display_name": "Python 3",
      "name": "python3"
    },
    "language_info": {
      "name": "python"
    },
    "accelerator": "GPU"
  },
  "nbformat": 4,
  "nbformat_minor": 0
}